{
 "cells": [
  {
   "cell_type": "code",
   "execution_count": 3,
   "metadata": {},
   "outputs": [],
   "source": [
    "import logging\n",
    "from itertools import combinations\n",
    "import pandas as pd\n",
    "import numpy as np\n",
    "from geopy.distance import geodesic\n",
    "import networkx as nx\n",
    "import itertools\n",
    "from icecream import ic\n",
    "\n",
    "logging.basicConfig(level=logging.DEBUG)"
   ]
  },
  {
   "cell_type": "markdown",
   "metadata": {},
   "source": [
    "What's happening:\n",
    "\n",
    "df.itertuples() converts each row into a named tuple where you can access values like:\n",
    "\n",
    "row.name for city name\n",
    "row.lat for latitude\n",
    "row.lon for longitude\n",
    "\n",
    "\n",
    "combinations(..., 2) takes these tuples and creates all possible pairs of cities. The 2 means \"make pairs of 2\"\n",
    "In the loop:\n",
    "\n",
    "c1 gets the first city in the pair\n",
    "c2 gets the second city in the pair"
   ]
  },
  {
   "cell_type": "code",
   "execution_count": 5,
   "metadata": {},
   "outputs": [
    {
     "name": "stdout",
     "output_type": "stream",
     "text": [
      "Name is this Rome\n",
      "Name is this Milan\n",
      "Name is this Naples\n",
      "Name is this Turin\n",
      "Name is this Palermo\n",
      "Name is this Genoa\n",
      "      name      lat      lon\n",
      "0     Rome  41.9028  12.4964\n",
      "1    Milan  45.4642   9.1900\n",
      "2   Naples  40.8518  14.2681\n",
      "3    Turin  45.0703   7.6869\n",
      "4  Palermo  38.1157  13.3619\n",
      "[[  0.         477.02546129 188.6475709  524.43297713 426.93694824\n",
      "  400.78665276]\n",
      " [477.02546129   0.         657.84687879 125.82100593 886.47772698\n",
      "  119.20497669]\n",
      " [188.6475709  657.84687879   0.         712.28589073 313.61428581\n",
      "  588.33906504]\n",
      " [524.43297713 125.82100593 712.28589073   0.         905.2636729\n",
      "  124.12030586]\n",
      " [426.93694824 886.47772698 313.61428581 905.2636729    0.\n",
      "  790.20063127]\n",
      " [400.78665276 119.20497669 588.33906504 124.12030586 790.20063127\n",
      "    0.        ]]\n"
     ]
    }
   ],
   "source": [
    "data = {\n",
    "    'name': ['Rome', 'Milan', 'Naples', 'Turin', 'Palermo', 'Genoa'],\n",
    "    'lat': [41.9028, 45.4642, 40.8518, 45.0703, 38.1157, 44.4056],\n",
    "    'lon': [12.4964, 9.1900, 14.2681, 7.6869, 13.3619, 8.9463]\n",
    "}\n",
    "\n",
    "df = pd.DataFrame(data)\n",
    "# using itertools to generate all possible combinations of 2 cities\n",
    "for row in df.itertuples():\n",
    "    print(f'Name is this {row.name}')\n",
    "# With itertools instead of saying let's say df['name'] we can say row.name. \n",
    "print(df.head())\n",
    "DIST_MATRIX = np.zeros((len(df), len(df)))\n",
    "# See what combinations does\n",
    "for city1, city2 in combinations(df.itertuples(), 2):\n",
    "    DIST_MATRIX[city1.Index, city2.Index] = DIST_MATRIX[city2.Index, city1.Index] = geodesic((city1.lat, city1.lon), (city2.lat, city2.lon)).km\n",
    "\n",
    "print(DIST_MATRIX)\n"
   ]
  },
  {
   "cell_type": "markdown",
   "metadata": {},
   "source": [
    "## Geodesic Distance Calculation\n",
    "\n",
    "The geodesic distance between two points is the same regardless of the terrain:\n",
    "\n",
    "- Water (e.g., Mediterranean Sea)\n",
    "- Mountains (e.g., Alps)\n",
    "- Flat land\n",
    "\n",
    "```python\n",
    "distance = geodesic(milan, palermo).km  # ≈ 886.48 km\n",
    "\n",
    "## Why Use the Geodesic Formula?\n",
    "\n",
    "The geodesic formula takes into account several important factors:\n",
    "\n",
    "- Earth's radius\n",
    "- The curvature of the Earth\n",
    "- The fact that Earth is slightly squished (ellipsoid)\n",
    "- The changing distance between longitude lines\n",
    "\n",
    "That's why if you were planning a long flight route, it might look curved on a flat map, but it's actually the shortest path on our spherical Earth!\n",
    "\n",
    "# On a flat map (like Google Maps), it looks like you should go in a straight line\n",
    "# But because Earth is round (like the orange), the actual shortest path curves slightly!\n",
    "\n",
    "# That's why:\n",
    "```python\n",
    "flat_distance = flat_earth_distance(rome, milan)    # Wrong way (as if Earth was flat)\n",
    "curved_distance = geodesic(rome, milan).km          # Right way (considers Earth's curve)"
   ]
  },
  {
   "cell_type": "code",
   "execution_count": 6,
   "metadata": {},
   "outputs": [
    {
     "name": "stdout",
     "output_type": "stream",
     "text": [
      "[[  0.         349.30401144 391.04186819 ... 223.61470849 285.67481712\n",
      "  266.79616501]\n",
      " [349.30401144   0.          50.17877215 ... 566.29615596 634.93310475\n",
      "  614.95900451]\n",
      " [391.04186819  50.17877215   0.         ... 604.01577185 676.49916849\n",
      "  654.72206469]\n",
      " ...\n",
      " [223.61470849 566.29615596 604.01577185 ...   0.         104.8569216\n",
      "   63.17924401]\n",
      " [285.67481712 634.93310475 676.49916849 ... 104.8569216    0.\n",
      "   44.69517255]\n",
      " [266.79616501 614.95900451 654.72206469 ...  63.17924401  44.69517255\n",
      "    0.        ]]\n"
     ]
    }
   ],
   "source": [
    "CITIES = pd.read_csv('cities/italy.csv', header=None, names=['name', 'lat', 'lon'])\n",
    "DIST_MATRIX = np.zeros((len(CITIES), len(CITIES)))\n",
    "\n",
    "for c1, c2 in combinations(CITIES.itertuples(), 2):\n",
    "    # This is doing two assignments at once because the distance from city A to city B is the same as the distance from city B to city A. Let's break it into steps:\n",
    "    DIST_MATRIX[c1.Index, c2.Index] = DIST_MATRIX[c2.Index, c1.Index] = geodesic(\n",
    "        (c1.lat, c1.lon), (c2.lat, c2.lon)\n",
    "    ).km\n",
    "CITIES.head()\n",
    "print(DIST_MATRIX)\n",
    "\n"
   ]
  },
  {
   "cell_type": "markdown",
   "metadata": {},
   "source": [
    "## Lab2 - TSP\n",
    "\n",
    "https://www.wolframcloud.com/obj/giovanni.squillero/Published/Lab2-tsp.nb"
   ]
  },
  {
   "cell_type": "markdown",
   "metadata": {},
   "source": [
    "## Fast Greedy Algorithm \n"
   ]
  },
  {
   "cell_type": "code",
   "execution_count": 7,
   "metadata": {},
   "outputs": [
    {
     "name": "stdout",
     "output_type": "stream",
     "text": [
      "From city 0 to city 33 is 90.5967461797061 km\n",
      "From city 33 to city 12 is 46.723760122246745 km\n",
      "From city 12 to city 30 is 26.45904737732812 km\n",
      "From city 30 to city 9 is 66.67171194357726 km\n",
      "From city 9 to city 4 is 43.42728615199659 km\n",
      "From city 4 to city 19 is 37.29202792818561 km\n",
      "From city 19 to city 32 is 23.939721051289947 km\n",
      "From city 32 to city 25 is 26.942823860477837 km\n",
      "From city 25 to city 28 is 57.65426248112829 km\n",
      "From city 28 to city 18 is 60.64923118840254 km\n",
      "From city 18 to city 20 is 14.50856854090449 km\n",
      "From city 20 to city 3 is 33.91792128864521 km\n",
      "From city 3 to city 6 is 46.01771032749969 km\n",
      "From city 6 to city 44 is 61.41588754627765 km\n",
      "From city 44 to city 45 is 44.69517255475827 km\n",
      "From city 45 to city 23 is 30.129893989361843 km\n",
      "From city 23 to city 43 is 36.07208970412391 km\n",
      "From city 43 to city 41 is 115.09339706818346 km\n",
      "From city 41 to city 5 is 209.6848929934776 km\n",
      "From city 5 to city 40 is 49.93679674999438 km\n",
      "From city 40 to city 22 is 206.68711345185295 km\n",
      "From city 22 to city 42 is 84.45894281264431 km\n",
      "From city 42 to city 13 is 123.19477068521964 km\n",
      "From city 13 to city 16 is 146.36826834006118 km\n",
      "From city 16 to city 29 is 74.0242139473328 km\n",
      "From city 29 to city 10 is 17.17330189828679 km\n",
      "From city 10 to city 26 is 119.19198932605904 km\n",
      "From city 26 to city 39 is 63.64271193762265 km\n",
      "From city 39 to city 34 is 76.5411082252729 km\n",
      "From city 34 to city 15 is 56.837851102893964 km\n",
      "From city 15 to city 14 is 124.44567231892404 km\n",
      "From city 14 to city 21 is 11.1526869070739 km\n",
      "From city 21 to city 35 is 46.24532696291669 km\n",
      "From city 35 to city 11 is 109.51661720605695 km\n",
      "From city 11 to city 1 is 67.42173103569236 km\n",
      "From city 1 to city 2 is 50.17877214765558 km\n",
      "From city 2 to city 38 is 77.62816934136235 km\n",
      "From city 38 to city 17 is 293.01721721226914 km\n",
      "From city 17 to city 31 is 12.477352214328397 km\n",
      "From city 31 to city 8 is 84.28339538220968 km\n",
      "From city 8 to city 37 is 51.227395340192665 km\n",
      "From city 37 to city 24 is 206.4685647180968 km\n",
      "From city 24 to city 7 is 390.2811320384364 km\n",
      "From city 7 to city 36 is 173.89062184125248 km\n",
      "From city 36 to city 27 is 508.60942288264704 km\n",
      "From city 27 to city 0 is 139.23847120123253 km\n",
      "Total distance: 4436.03176952516 km\n"
     ]
    }
   ],
   "source": [
    "current_city = 0  # Starting city (you can choose any starting point)\n",
    "visited = [False] * len(DIST_MATRIX)  # Initialize visited list\n",
    "visited[current_city] = True  # Mark the starting city as visited\n",
    "total_distance = 0  # To accumulate total distance\n",
    "\n",
    "# Loop until all cities are visited\n",
    "while not all(visited):\n",
    "    min_value = np.inf\n",
    "    min_index = -1\n",
    "\n",
    "    for j in range(len(DIST_MATRIX[current_city])):  # Loop through cities from the current city\n",
    "        if DIST_MATRIX[current_city, j] < min_value and not visited[j] and DIST_MATRIX[current_city, j] != 0:\n",
    "            min_value = DIST_MATRIX[current_city, j]\n",
    "            min_index = j\n",
    "\n",
    "    if min_index != -1:  # Check if a minimum index was found\n",
    "        visited[min_index] = True  # Mark the new city as visited\n",
    "        total_distance += min_value  # Add the distance to total\n",
    "        print(f'From city {current_city} to city {min_index} is {min_value} km')\n",
    "        current_city = min_index  # Update the current city to the newly found city\n",
    "        \n",
    "    if all(visited):\n",
    "        total_distance += DIST_MATRIX[current_city, 0]\n",
    "        print(f'From city {current_city} to city 0 is {DIST_MATRIX[current_city, 0]} km')\n",
    "        print(f'Total distance: {total_distance} km')\n"
   ]
  },
  {
   "cell_type": "markdown",
   "metadata": {},
   "source": [
    "## Evolutionary Algorithm"
   ]
  },
  {
   "cell_type": "markdown",
   "metadata": {},
   "source": [
    "For initialization, we start by creating a population of random paths. Each path will be a random permutation of the city indices, representing a unique route. We create population_size number of paths."
   ]
  },
  {
   "cell_type": "code",
   "execution_count": 24,
   "metadata": {},
   "outputs": [
    {
     "name": "stdout",
     "output_type": "stream",
     "text": [
      "46\n",
      "100\n"
     ]
    }
   ],
   "source": [
    "population_size = 100 # number of paths in each generation\n",
    "num_cities = len(CITIES) # number of cities\n",
    "print(num_cities)\n",
    "population = [np.random.permutation(num_cities) for _ in range(population_size)] # Here we are generating 100 paths of 10 cities each. We can also generate the maximum num\n",
    "# of possible permutations. which will be !numOfCities permutations. we will try this later.\n",
    "# Wouldn't make sense to consider the maximum number of permutations. It would be too much. for 46 cities it will be 46! which is 5502622159812088949850305428800254892961651752960000000000"
   ]
  },
  {
   "cell_type": "markdown",
   "metadata": {},
   "source": [
    "We can say that the total distance of a unique path is it's fitness. This way we can rank the permutations based on the total distance and aim for the shorter ones. "
   ]
  },
  {
   "cell_type": "code",
   "execution_count": 15,
   "metadata": {},
   "outputs": [
    {
     "name": "stdout",
     "output_type": "stream",
     "text": [
      "16136.092222787718\n"
     ]
    }
   ],
   "source": [
    "def calculate_path_distance(path):\n",
    "    distance = 0\n",
    "    for i in range(len(path) - 1):\n",
    "        distance += DIST_MATRIX[path[i], path[i + 1]]\n",
    "    # Return to the starting point\n",
    "    distance += DIST_MATRIX[path[-1], path[0]]\n",
    "    return distance\n",
    "\n",
    "# Calculate fitness for each path in the population\n",
    "fitness_scores = [calculate_path_distance(path) for path in population]\n",
    "# now we sort based on the minimum distance \n",
    "\n",
    "\n",
    "print(min(fitness_scores))\n"
   ]
  },
  {
   "cell_type": "markdown",
   "metadata": {},
   "source": [
    "### Selection Process\n",
    "\n",
    "In selection we will select the paths (solutions) that we will use to create the next generation. We want to favor the paths with lower distances (higher fitness) while still allowing some randomness to maintain diversity. \n",
    "We do the Roulette Wheel Selection:\n",
    "\n",
    "We assign probability based on the fitness, higher fitness will get a higher probability so they are more likely to be selected. "
   ]
  },
  {
   "cell_type": "code",
   "execution_count": 28,
   "metadata": {},
   "outputs": [],
   "source": [
    "def select_parents(population, fitness_scores, num_parents=population_size):\n",
    "    # calculate the probability of each individual(path) being selected\n",
    "    total_fitness = sum(1/score for score in fitness_scores)\n",
    "    selection_probs = [(1/score) / total_fitness for score in fitness_scores]\n",
    "    # here we select the parents based on probabilities\n",
    "    parents_indices = np.random.choice(len(population), size = num_parents, p = selection_probs)\n",
    "    parents = [population[i] for i in parents_indices]\n",
    "    return parents\n",
    "\n",
    "# we want to select the best 20 parents from the population\n",
    "parents = select_parents(population, fitness_scores, 20)"
   ]
  },
  {
   "cell_type": "code",
   "execution_count": 41,
   "metadata": {},
   "outputs": [
    {
     "name": "stdout",
     "output_type": "stream",
     "text": [
      "[0 2]\n"
     ]
    }
   ],
   "source": []
  },
  {
   "cell_type": "markdown",
   "metadata": {},
   "source": [
    "### Crossover \n",
    "Here we combine two parent paths to create a new child path. The idea is that to inherit traits from each parent to explore new combinations of cities while keeping some order. "
   ]
  },
  {
   "cell_type": "code",
   "execution_count": 43,
   "metadata": {},
   "outputs": [],
   "source": [
    "def crossover(parent1, parent2):\n",
    "    # choose crossover points \n",
    "    point1, point2 = sorted(np.random.choice(len(parent1), 2, replace=False))\n",
    "    # child starts with slice of parent1 \n",
    "    child = [-1]*len(parent1)\n",
    "    child[point1:point2] = parent1[point1:point2]\n",
    "\n",
    "    # Fill the remaining cities from parent2 while avoiding dupication\n",
    "    for i in range(len(parent2)):\n",
    "        if parent2[i] not in child:\n",
    "            for j in range(len(child)):\n",
    "                if child[j] == -1:\n",
    "                    child[j] = parent2[i]\n",
    "                    break\n",
    "    return child"
   ]
  },
  {
   "cell_type": "markdown",
   "metadata": {},
   "source": [
    "### Mutation \n",
    "Mutation helps to introduce small changes in individual paths to maintain diversity. This prevents the algorithm from getting stuck in a local minimum. \n",
    "Method: A common mutation for TSP is swapping two random cities in the path. "
   ]
  },
  {
   "cell_type": "code",
   "execution_count": 47,
   "metadata": {},
   "outputs": [],
   "source": [
    "def mutate(path, mutation_rate = 0.1):\n",
    "    if np.random.rand() < mutation_rate:\n",
    "        # choose two random cities and swap them\n",
    "        idx1, idx2 = np.random.choice(len(path), 2, replace=False)\n",
    "        path[idx1], path[idx2] = path[idx2], path[idx1]\n",
    "    return path"
   ]
  },
  {
   "cell_type": "markdown",
   "metadata": {},
   "source": [
    "### Next Generation\n",
    "Using the selection, crossover, and mutation functions, we generate a new generation of paths.\n"
   ]
  },
  {
   "cell_type": "code",
   "execution_count": 49,
   "metadata": {},
   "outputs": [],
   "source": [
    "def generate_new_population(parents, mutation_rate = 0.1):\n",
    "    new_population = []\n",
    "    for i in range(0, len(parents), 2):\n",
    "        parent1, parent2 = parents[i], parents[(i+1) % len(parents)]\n",
    "        child = crossover(parent1, parent2)\n",
    "        child = mutate(child, mutation_rate)\n",
    "        new_population.append(child)\n",
    "    return new_population"
   ]
  },
  {
   "cell_type": "markdown",
   "metadata": {},
   "source": [
    "### Final Iteration\n",
    "Here we combine all the steps and iterate for a set number of generations or until convergence. "
   ]
  },
  {
   "cell_type": "code",
   "execution_count": 50,
   "metadata": {},
   "outputs": [
    {
     "name": "stdout",
     "output_type": "stream",
     "text": [
      "Generation 0: Best distance: 14865.894115208685\n",
      "Generation 1: Best distance: 17981.548796341474\n",
      "Generation 2: Best distance: 17947.463808623266\n",
      "Generation 3: Best distance: 16373.035685549923\n",
      "Generation 4: Best distance: 17807.211092471036\n",
      "Generation 5: Best distance: 17330.193658362023\n",
      "Generation 6: Best distance: 16887.350031641447\n",
      "Generation 7: Best distance: 16193.598807417871\n",
      "Generation 8: Best distance: 18489.0254803181\n",
      "Generation 9: Best distance: 18459.87008276895\n",
      "Generation 10: Best distance: 18459.87008276895\n",
      "Generation 11: Best distance: 18854.028511655182\n",
      "Generation 12: Best distance: 18072.84863388452\n",
      "Generation 13: Best distance: 18167.2918013405\n",
      "Generation 14: Best distance: 18707.728594169563\n",
      "Generation 15: Best distance: 18539.48111399113\n",
      "Generation 16: Best distance: 17867.648982040802\n",
      "Generation 17: Best distance: 17999.38768008369\n",
      "Generation 18: Best distance: 17921.327109170586\n",
      "Generation 19: Best distance: 18467.91400310037\n",
      "Generation 20: Best distance: 17224.249341850515\n",
      "Generation 21: Best distance: 17658.439359248583\n",
      "Generation 22: Best distance: 17747.65804225715\n",
      "Generation 23: Best distance: 18573.825294346112\n",
      "Generation 24: Best distance: 17640.026226444068\n",
      "Generation 25: Best distance: 17208.39742765613\n",
      "Generation 26: Best distance: 17445.282299106184\n",
      "Generation 27: Best distance: 17610.47175564976\n",
      "Generation 28: Best distance: 18317.487716196203\n",
      "Generation 29: Best distance: 18105.800941728095\n",
      "Generation 30: Best distance: 17755.543784879937\n",
      "Generation 31: Best distance: 16296.789039772078\n",
      "Generation 32: Best distance: 16800.77551480342\n",
      "Generation 33: Best distance: 17225.333508327836\n",
      "Generation 34: Best distance: 17918.70056746839\n",
      "Generation 35: Best distance: 17239.984472843844\n",
      "Generation 36: Best distance: 16076.637067664053\n",
      "Generation 37: Best distance: 16729.649458510754\n",
      "Generation 38: Best distance: 16428.569934059666\n",
      "Generation 39: Best distance: 16947.058577126852\n",
      "Generation 40: Best distance: 16575.933637514427\n",
      "Generation 41: Best distance: 16927.47603556936\n",
      "Generation 42: Best distance: 16237.496874238997\n",
      "Generation 43: Best distance: 16718.144888463536\n",
      "Generation 44: Best distance: 16589.908713534263\n",
      "Generation 45: Best distance: 16890.73988458326\n",
      "Generation 46: Best distance: 16952.801269643616\n",
      "Generation 47: Best distance: 17334.30331429088\n",
      "Generation 48: Best distance: 17018.927661553134\n",
      "Generation 49: Best distance: 17237.724606050546\n",
      "Generation 50: Best distance: 16391.162317590602\n",
      "Generation 51: Best distance: 17010.487662006326\n",
      "Generation 52: Best distance: 15291.254881894036\n",
      "Generation 53: Best distance: 17043.587870657477\n",
      "Generation 54: Best distance: 16946.021782811244\n",
      "Generation 55: Best distance: 15356.32027928402\n",
      "Generation 56: Best distance: 15258.700838356768\n",
      "Generation 57: Best distance: 15662.935910075828\n",
      "Generation 58: Best distance: 15662.935910075828\n",
      "Generation 59: Best distance: 17503.104810774737\n",
      "Generation 60: Best distance: 17856.27186619604\n",
      "Generation 61: Best distance: 17644.92483263961\n",
      "Generation 62: Best distance: 17644.92483263961\n",
      "Generation 63: Best distance: 17730.704836020188\n",
      "Generation 64: Best distance: 18628.37577885459\n",
      "Generation 65: Best distance: 19182.787458278955\n",
      "Generation 66: Best distance: 19008.53620852652\n",
      "Generation 67: Best distance: 18568.005500167776\n",
      "Generation 68: Best distance: 18745.851355488412\n",
      "Generation 69: Best distance: 18831.97916411382\n",
      "Generation 70: Best distance: 18091.239040531433\n",
      "Generation 71: Best distance: 18808.08927414637\n",
      "Generation 72: Best distance: 19448.88393506074\n",
      "Generation 73: Best distance: 19247.212410436437\n",
      "Generation 74: Best distance: 18889.3225017479\n",
      "Generation 75: Best distance: 19691.473096220358\n",
      "Generation 76: Best distance: 19930.262409376643\n",
      "Generation 77: Best distance: 19928.393768389564\n",
      "Generation 78: Best distance: 19928.393768389564\n",
      "Generation 79: Best distance: 19944.76370420485\n",
      "Generation 80: Best distance: 17927.403482118232\n",
      "Generation 81: Best distance: 18855.30664766301\n",
      "Generation 82: Best distance: 19434.760540942898\n",
      "Generation 83: Best distance: 19196.235888146493\n",
      "Generation 84: Best distance: 19023.208823818124\n",
      "Generation 85: Best distance: 19188.03028902397\n",
      "Generation 86: Best distance: 19282.05219303218\n",
      "Generation 87: Best distance: 19059.518601365766\n",
      "Generation 88: Best distance: 19038.15065278593\n",
      "Generation 89: Best distance: 18666.90509038476\n",
      "Generation 90: Best distance: 18696.664482675467\n",
      "Generation 91: Best distance: 19398.04896233968\n",
      "Generation 92: Best distance: 18963.268419124764\n",
      "Generation 93: Best distance: 19353.826173948895\n",
      "Generation 94: Best distance: 19701.065952432073\n",
      "Generation 95: Best distance: 19912.261387650055\n",
      "Generation 96: Best distance: 19011.425853643308\n",
      "Generation 97: Best distance: 19011.425853643308\n",
      "Generation 98: Best distance: 18817.86596365211\n",
      "Generation 99: Best distance: 17971.892353588435\n"
     ]
    }
   ],
   "source": [
    "num_generations = 100  # Here we define the number of generations \n",
    "\n",
    "for generation in range(num_generations):\n",
    "    # step 1: calculate fitness\n",
    "    fitness_scores = [calculate_path_distance(path) for path in population]\n",
    "    \n",
    "    # step 2: Selection\n",
    "    parents = select_parents(population, fitness_scores, 20)\n",
    "    \n",
    "    # step 3: Generate new population\n",
    "    population = generate_new_population(parents)\n",
    "    \n",
    "    # step 4: Calculate the best path in the current generation\n",
    "    best_distance = min(fitness_scores)\n",
    "    \n",
    "    print(f\"Generation {generation}: Best distance: {best_distance}\")"
   ]
  }
 ],
 "metadata": {
  "kernelspec": {
   "display_name": "lab2",
   "language": "python",
   "name": "python3"
  },
  "language_info": {
   "codemirror_mode": {
    "name": "ipython",
    "version": 3
   },
   "file_extension": ".py",
   "mimetype": "text/x-python",
   "name": "python",
   "nbconvert_exporter": "python",
   "pygments_lexer": "ipython3",
   "version": "3.12.2"
  }
 },
 "nbformat": 4,
 "nbformat_minor": 2
}

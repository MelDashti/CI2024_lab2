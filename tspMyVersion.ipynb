{
 "cells": [
  {
   "cell_type": "code",
   "execution_count": 15,
   "metadata": {},
   "outputs": [],
   "source": [
    "import logging\n",
    "from itertools import combinations\n",
    "import pandas as pd\n",
    "import numpy as np\n",
    "from geopy.distance import geodesic\n",
    "import networkx as nx\n",
    "\n",
    "from icecream import ic\n",
    "\n",
    "logging.basicConfig(level=logging.DEBUG)"
   ]
  },
  {
   "cell_type": "markdown",
   "metadata": {},
   "source": [
    "What's happening:\n",
    "\n",
    "df.itertuples() converts each row into a named tuple where you can access values like:\n",
    "\n",
    "row.name for city name\n",
    "row.lat for latitude\n",
    "row.lon for longitude\n",
    "\n",
    "\n",
    "combinations(..., 2) takes these tuples and creates all possible pairs of cities. The 2 means \"make pairs of 2\"\n",
    "In the loop:\n",
    "\n",
    "c1 gets the first city in the pair\n",
    "c2 gets the second city in the pair"
   ]
  },
  {
   "cell_type": "code",
   "execution_count": 38,
   "metadata": {},
   "outputs": [
    {
     "name": "stdout",
     "output_type": "stream",
     "text": [
      "Name is this Rome\n",
      "Name is this Milan\n",
      "Name is this Naples\n",
      "Name is this Turin\n",
      "Name is this Palermo\n",
      "Name is this Genoa\n",
      "      name      lat      lon\n",
      "0     Rome  41.9028  12.4964\n",
      "1    Milan  45.4642   9.1900\n",
      "2   Naples  40.8518  14.2681\n",
      "3    Turin  45.0703   7.6869\n",
      "4  Palermo  38.1157  13.3619\n",
      "[[  0.         477.02546129 188.6475709  524.43297713 426.93694824\n",
      "  400.78665276]\n",
      " [477.02546129   0.         657.84687879 125.82100593 886.47772698\n",
      "  119.20497669]\n",
      " [188.6475709  657.84687879   0.         712.28589073 313.61428581\n",
      "  588.33906504]\n",
      " [524.43297713 125.82100593 712.28589073   0.         905.2636729\n",
      "  124.12030586]\n",
      " [426.93694824 886.47772698 313.61428581 905.2636729    0.\n",
      "  790.20063127]\n",
      " [400.78665276 119.20497669 588.33906504 124.12030586 790.20063127\n",
      "    0.        ]]\n"
     ]
    }
   ],
   "source": [
    "data = {\n",
    "    'name': ['Rome', 'Milan', 'Naples', 'Turin', 'Palermo', 'Genoa'],\n",
    "    'lat': [41.9028, 45.4642, 40.8518, 45.0703, 38.1157, 44.4056],\n",
    "    'lon': [12.4964, 9.1900, 14.2681, 7.6869, 13.3619, 8.9463]\n",
    "}\n",
    "\n",
    "df = pd.DataFrame(data)\n",
    "# using itertools to generate all possible combinations of 2 cities\n",
    "for row in df.itertuples():\n",
    "    print(f'Name is this {row.name}')\n",
    "# With itertools instead of saying let's say df['name'] we can say row.name. \n",
    "print(df.head())\n",
    "DIST_MATRIX = np.zeros((len(df), len(df)))\n",
    "# See what combinations does\n",
    "for city1, city2 in combinations(df.itertuples(), 2):\n",
    "    DIST_MATRIX[city1.Index, city2.Index] = DIST_MATRIX[city2.Index, city1.Index] = geodesic((city1.lat, city1.lon), (city2.lat, city2.lon)).km\n",
    "\n",
    "print(DIST_MATRIX)\n"
   ]
  },
  {
   "cell_type": "markdown",
   "metadata": {},
   "source": [
    "## Geodesic Distance Calculation\n",
    "\n",
    "The geodesic distance between two points is the same regardless of the terrain:\n",
    "\n",
    "- Water (e.g., Mediterranean Sea)\n",
    "- Mountains (e.g., Alps)\n",
    "- Flat land\n",
    "\n",
    "```python\n",
    "distance = geodesic(milan, palermo).km  # ≈ 886.48 km\n",
    "\n",
    "## Why Use the Geodesic Formula?\n",
    "\n",
    "The geodesic formula takes into account several important factors:\n",
    "\n",
    "- Earth's radius\n",
    "- The curvature of the Earth\n",
    "- The fact that Earth is slightly squished (ellipsoid)\n",
    "- The changing distance between longitude lines\n",
    "\n",
    "That's why if you were planning a long flight route, it might look curved on a flat map, but it's actually the shortest path on our spherical Earth!\n",
    "\n",
    "# On a flat map (like Google Maps), it looks like you should go in a straight line\n",
    "# But because Earth is round (like the orange), the actual shortest path curves slightly!\n",
    "\n",
    "# That's why:\n",
    "```python\n",
    "flat_distance = flat_earth_distance(rome, milan)    # Wrong way (as if Earth was flat)\n",
    "curved_distance = geodesic(rome, milan).km          # Right way (considers Earth's curve)"
   ]
  },
  {
   "cell_type": "code",
   "execution_count": 33,
   "metadata": {},
   "outputs": [
    {
     "name": "stdout",
     "output_type": "stream",
     "text": [
      "[[  0.         349.30401144 391.04186819 ... 223.61470849 285.67481712\n",
      "  266.79616501]\n",
      " [349.30401144   0.          50.17877215 ... 566.29615596 634.93310475\n",
      "  614.95900451]\n",
      " [391.04186819  50.17877215   0.         ... 604.01577185 676.49916849\n",
      "  654.72206469]\n",
      " ...\n",
      " [223.61470849 566.29615596 604.01577185 ...   0.         104.8569216\n",
      "   63.17924401]\n",
      " [285.67481712 634.93310475 676.49916849 ... 104.8569216    0.\n",
      "   44.69517255]\n",
      " [266.79616501 614.95900451 654.72206469 ...  63.17924401  44.69517255\n",
      "    0.        ]]\n"
     ]
    }
   ],
   "source": [
    "CITIES = pd.read_csv('cities/italy.csv', header=None, names=['name', 'lat', 'lon'])\n",
    "DIST_MATRIX = np.zeros((len(CITIES), len(CITIES)))\n",
    "\n",
    "for c1, c2 in combinations(CITIES.itertuples(), 2):\n",
    "    # This is doing two assignments at once because the distance from city A to city B is the same as the distance from city B to city A. Let's break it into steps:\n",
    "    DIST_MATRIX[c1.Index, c2.Index] = DIST_MATRIX[c2.Index, c1.Index] = geodesic(\n",
    "        (c1.lat, c1.lon), (c2.lat, c2.lon)\n",
    "    ).km\n",
    "CITIES.head()\n",
    "print(DIST_MATRIX)\n",
    "\n"
   ]
  },
  {
   "cell_type": "markdown",
   "metadata": {},
   "source": [
    "## Lab2 - TSP\n",
    "\n",
    "https://www.wolframcloud.com/obj/giovanni.squillero/Published/Lab2-tsp.nb"
   ]
  },
  {
   "cell_type": "markdown",
   "metadata": {},
   "source": [
    "## Fast Greedy Algorithm \n"
   ]
  },
  {
   "cell_type": "code",
   "execution_count": 57,
   "metadata": {},
   "outputs": [
    {
     "name": "stdout",
     "output_type": "stream",
     "text": [
      "From city 0 to city 2 is 188.64757090139386 km\n",
      "From city 2 to city 4 is 313.61428581460615 km\n",
      "From city 4 to city 5 is 790.2006312734908 km\n",
      "From city 5 to city 1 is 119.20497669118207 km\n",
      "From city 1 to city 3 is 125.82100593033576 km\n",
      "From city 3 to city 0 is 524.4329771341531 km\n",
      "Total distance: 2061.921447745162 km\n"
     ]
    }
   ],
   "source": [
    "current_city = 0  # Starting city (you can choose any starting point)\n",
    "visited = [False] * len(DIST_MATRIX)  # Initialize visited list\n",
    "visited[current_city] = True  # Mark the starting city as visited\n",
    "total_distance = 0  # To accumulate total distance\n",
    "\n",
    "# Loop until all cities are visited\n",
    "while not all(visited):\n",
    "    min_value = np.inf\n",
    "    min_index = -1\n",
    "\n",
    "    for j in range(len(DIST_MATRIX[current_city])):  # Loop through cities from the current city\n",
    "        if DIST_MATRIX[current_city, j] < min_value and not visited[j] and DIST_MATRIX[current_city, j] != 0:\n",
    "            min_value = DIST_MATRIX[current_city, j]\n",
    "            min_index = j\n",
    "\n",
    "    if min_index != -1:  # Check if a minimum index was found\n",
    "        visited[min_index] = True  # Mark the new city as visited\n",
    "        total_distance += min_value  # Add the distance to total\n",
    "        print(f'From city {current_city} to city {min_index} is {min_value} km')\n",
    "        current_city = min_index  # Update the current city to the newly found city\n",
    "        \n",
    "    if all(visited):\n",
    "        total_distance += DIST_MATRIX[current_city, 0]\n",
    "        print(f'From city {current_city} to city 0 is {DIST_MATRIX[current_city, 0]} km')\n",
    "        print(f'Total distance: {total_distance} km')\n"
   ]
  },
  {
   "cell_type": "code",
   "execution_count": null,
   "metadata": {},
   "outputs": [],
   "source": []
  }
 ],
 "metadata": {
  "kernelspec": {
   "display_name": "lab2",
   "language": "python",
   "name": "python3"
  },
  "language_info": {
   "codemirror_mode": {
    "name": "ipython",
    "version": 3
   },
   "file_extension": ".py",
   "mimetype": "text/x-python",
   "name": "python",
   "nbconvert_exporter": "python",
   "pygments_lexer": "ipython3",
   "version": "3.12.2"
  }
 },
 "nbformat": 4,
 "nbformat_minor": 2
}

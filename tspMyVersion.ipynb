{
 "cells": [
  {
   "cell_type": "code",
   "execution_count": 1675,
   "metadata": {},
   "outputs": [],
   "source": [
    "import logging\n",
    "from itertools import combinations\n",
    "import pandas as pd\n",
    "import numpy as np\n",
    "from geopy.distance import geodesic\n",
    "import networkx as nx\n",
    "import itertools\n",
    "from icecream import ic\n",
    "\n",
    "logging.basicConfig(level=logging.DEBUG)"
   ]
  },
  {
   "cell_type": "code",
   "execution_count": 1676,
   "metadata": {},
   "outputs": [
    {
     "name": "stdout",
     "output_type": "stream",
     "text": [
      "[[  0.         349.30401144 391.04186819 ... 223.61470849 285.67481712\n",
      "  266.79616501]\n",
      " [349.30401144   0.          50.17877215 ... 566.29615596 634.93310475\n",
      "  614.95900451]\n",
      " [391.04186819  50.17877215   0.         ... 604.01577185 676.49916849\n",
      "  654.72206469]\n",
      " ...\n",
      " [223.61470849 566.29615596 604.01577185 ...   0.         104.8569216\n",
      "   63.17924401]\n",
      " [285.67481712 634.93310475 676.49916849 ... 104.8569216    0.\n",
      "   44.69517255]\n",
      " [266.79616501 614.95900451 654.72206469 ...  63.17924401  44.69517255\n",
      "    0.        ]]\n"
     ]
    }
   ],
   "source": [
    "CITIES = pd.read_csv('cities/italy.csv', header=None, names=['name', 'lat', 'lon'])\n",
    "DIST_MATRIX = np.zeros((len(CITIES), len(CITIES)))\n",
    "\n",
    "for c1, c2 in combinations(CITIES.itertuples(), 2):\n",
    "    # This is doing two assignments at once because the distance from city A to city B is the same as the distance from city B to city A. Let's break it into steps:\n",
    "    DIST_MATRIX[c1.Index, c2.Index] = DIST_MATRIX[c2.Index, c1.Index] = geodesic(\n",
    "        (c1.lat, c1.lon), (c2.lat, c2.lon)\n",
    "    ).km\n",
    "CITIES.head()\n",
    "print(DIST_MATRIX)\n",
    "\n"
   ]
  },
  {
   "cell_type": "markdown",
   "metadata": {},
   "source": [
    "## Lab2 - TSP\n",
    "\n",
    "https://www.wolframcloud.com/obj/giovanni.squillero/Published/Lab2-tsp.nb"
   ]
  },
  {
   "cell_type": "markdown",
   "metadata": {},
   "source": [
    "## Fast Greedy Algorithm \n"
   ]
  },
  {
   "cell_type": "code",
   "execution_count": 1677,
   "metadata": {},
   "outputs": [
    {
     "name": "stdout",
     "output_type": "stream",
     "text": [
      "Total distance: 4436.03176952516 km\n"
     ]
    }
   ],
   "source": [
    "current_city = 0  # Starting city (you can choose any starting point)\n",
    "visited = [False] * len(DIST_MATRIX)  # Initialize visited list\n",
    "visited[current_city] = True  # Mark the starting city as visited\n",
    "total_distance = 0  # To accumulate total distance\n",
    "\n",
    "# Loop until all cities are visited\n",
    "while not all(visited):\n",
    "    min_value = np.inf\n",
    "    min_index = -1\n",
    "\n",
    "    for j in range(len(DIST_MATRIX[current_city])):  # Loop through cities from the current city\n",
    "        if DIST_MATRIX[current_city, j] < min_value and not visited[j] and DIST_MATRIX[current_city, j] != 0:\n",
    "            min_value = DIST_MATRIX[current_city, j]\n",
    "            min_index = j\n",
    "\n",
    "    if min_index != -1:  # Check if a minimum index was found\n",
    "        visited[min_index] = True  # Mark the new city as visited\n",
    "        total_distance += min_value  # Add the distance to total\n",
    "        current_city = min_index  # Update the current city to the newly found city\n",
    "        \n",
    "    if all(visited):\n",
    "        total_distance += DIST_MATRIX[current_city, 0]\n",
    "        print(f'Total distance: {total_distance} km')\n"
   ]
  },
  {
   "cell_type": "markdown",
   "metadata": {},
   "source": [
    "## Evolutionary Algorithm"
   ]
  },
  {
   "cell_type": "markdown",
   "metadata": {},
   "source": [
    "For initialization, we start by creating a population of random paths. Each path will be a random permutation of the city indices, representing a unique route. We create population_size number of paths."
   ]
  },
  {
   "cell_type": "code",
   "execution_count": 1678,
   "metadata": {},
   "outputs": [
    {
     "name": "stdout",
     "output_type": "stream",
     "text": [
      "46\n"
     ]
    }
   ],
   "source": [
    "population_size = 100 # number of paths in each generation\n",
    "num_cities = len(CITIES) # number of cities\n",
    "print(num_cities)\n",
    "population = [np.random.permutation(num_cities) for _ in range(population_size)] # Here we are generating 100 paths of 10 cities each. We can also generate the maximum num\n",
    "# of possible permutations. which will be !numOfCities permutations. we will try this later.\n",
    "# Wouldn't make sense to consider the maximum number of permutations. It would be too much. for 46 cities it will be 46! which is 5502622159812088949850305428800254892961651752960000000000"
   ]
  },
  {
   "cell_type": "markdown",
   "metadata": {},
   "source": [
    "We can say that the total distance of a unique path is it's fitness. This way we can rank the permutations based on the total distance and aim for the shorter ones. "
   ]
  },
  {
   "cell_type": "code",
   "execution_count": 1679,
   "metadata": {},
   "outputs": [
    {
     "name": "stdout",
     "output_type": "stream",
     "text": [
      "15294.569700889238\n"
     ]
    }
   ],
   "source": [
    "def calculate_path_distance(path):\n",
    "    distance = 0\n",
    "    for i in range(len(path) - 1):\n",
    "        distance += DIST_MATRIX[path[i], path[i + 1]]\n",
    "    # Return to the starting point\n",
    "    distance += DIST_MATRIX[path[-1], path[0]]\n",
    "    return distance\n",
    "\n",
    "# Calculate fitness for each path in the population\n",
    "fitness_scores = [calculate_path_distance(path) for path in population]\n",
    "# now we sort based on the minimum distance \n",
    "\n",
    "\n",
    "print(min(fitness_scores))\n"
   ]
  },
  {
   "cell_type": "markdown",
   "metadata": {},
   "source": [
    "### Selection Process\n",
    "\n",
    "In selection we will select the paths (solutions) that we will use to create the next generation. We want to favor the paths with lower distances (higher fitness) while still allowing some randomness to maintain diversity. \n",
    "We do the Roulette Wheel Selection:\n",
    "\n",
    "We assign probability based on the fitness, higher fitness will get a higher probability so they are more likely to be selected. "
   ]
  },
  {
   "cell_type": "code",
   "execution_count": 1680,
   "metadata": {},
   "outputs": [],
   "source": [
    "# Basic ROulette Wheel Selection\n",
    "def select_parents(population, fitness_scores, num_parents=population_size):\n",
    "    # calculate the probability of each individual(path) being selected\n",
    "    total_fitness = sum(1/score for score in fitness_scores)\n",
    "    selection_probs = [(1/score) / total_fitness for score in fitness_scores]\n",
    "    # here we select the parents based on probabilities\n",
    "    parents_indices = np.random.choice(len(population), size = num_parents, p = selection_probs)\n",
    "    parents = [population[i] for i in parents_indices]\n",
    "    return parents"
   ]
  },
  {
   "cell_type": "code",
   "execution_count": 1681,
   "metadata": {},
   "outputs": [],
   "source": [
    "# Tournament Selection\n",
    "\n",
    "def select_parents(population, fitness_scores, num_parents, tournament_size=3):\n",
    "\n",
    "    selected_parents = []\n",
    "    \n",
    "    for _ in range(num_parents):\n",
    "        # Randomly select tournament_size individuals\n",
    "        tournament_indices = np.random.choice(len(population), tournament_size, replace=False)\n",
    "        tournament_fitness = [fitness_scores[i] for i in tournament_indices]\n",
    "        \n",
    "        # Select the best from the tournament (minimum distance for TSP)\n",
    "        winner_idx = tournament_indices[np.argmin(tournament_fitness)]\n",
    "        selected_parents.append(population[winner_idx])\n",
    "    \n",
    "    return selected_parents\n",
    "\n"
   ]
  },
  {
   "cell_type": "code",
   "execution_count": 1682,
   "metadata": {},
   "outputs": [],
   "source": [
    "## Rank Based Selection\n",
    "def select_parents(population, fitness_scores, num_parents):\n",
    "\n",
    "    # Sort indices by fitness (ascending since lower distance is better)\n",
    "    ranked_indices = np.argsort(fitness_scores)\n",
    "    \n",
    "    # Calculate rank-based probabilities (higher rank = higher probability)\n",
    "    ranks = np.arange(len(population), 0, -1)\n",
    "    selection_probs = ranks / ranks.sum()\n",
    "    \n",
    "    # Select parents based on rank probabilities\n",
    "    parent_indices = np.random.choice(\n",
    "        len(population), \n",
    "        size=num_parents, \n",
    "        p=selection_probs,\n",
    "        replace=False  # Ensure unique parents\n",
    "    )\n",
    "    \n",
    "    return [population[i] for i in parent_indices]\n"
   ]
  },
  {
   "cell_type": "markdown",
   "metadata": {},
   "source": [
    "### Crossover \n",
    "Here we combine two parent paths to create a new child path. The idea is that to inherit traits from each parent to explore new combinations of cities while keeping some order. "
   ]
  },
  {
   "cell_type": "code",
   "execution_count": 1683,
   "metadata": {},
   "outputs": [],
   "source": [
    "# Basic order crossover\n",
    "def crossover(parent1, parent2):\n",
    "    # choose crossover points \n",
    "    point1, point2 = sorted(np.random.choice(len(parent1), 2, replace=False))\n",
    "    # child starts with slice of parent1 \n",
    "    child = [-1]*len(parent1)\n",
    "    child[point1:point2] = parent1[point1:point2]\n",
    "\n",
    "    # Fill the remaining cities from parent2 while avoiding dupication\n",
    "    for i in range(len(parent2)):\n",
    "        if parent2[i] not in child:\n",
    "            for j in range(len(child)):\n",
    "                if child[j] == -1:\n",
    "                    child[j] = parent2[i]\n",
    "                    break\n",
    "    return child"
   ]
  },
  {
   "cell_type": "code",
   "execution_count": 1684,
   "metadata": {},
   "outputs": [],
   "source": [
    "import random\n",
    "def edge_recombination_crossover(parent1, parent2):\n",
    "  \n",
    "    n = len(parent1)\n",
    "    # Create edge map for both parents\n",
    "    edge_map = {i: set() for i in range(n)}\n",
    "    \n",
    "    # Build edge map from both parents\n",
    "    for parent in [parent1, parent2]:\n",
    "        for i in range(n):\n",
    "            edge_map[parent[i]].add(parent[(i + 1) % n])\n",
    "            edge_map[parent[i]].add(parent[(i - 1) % n])\n",
    "    \n",
    "    # Generate child\n",
    "    child = [-1] * n\n",
    "    current = parent1[0]  # Start with first city of parent1\n",
    "    child[0] = current\n",
    "    \n",
    "    # Fill remaining cities\n",
    "    for i in range(1, n):\n",
    "        # Remove current city from all neighbor lists\n",
    "        for j in edge_map:\n",
    "            edge_map[j].discard(current)\n",
    "            \n",
    "        # Get neighbors of current city\n",
    "        neighbors = edge_map[current]\n",
    "        \n",
    "        if neighbors:\n",
    "            # Choose neighbor with fewest remaining neighbors\n",
    "            next_city = min(neighbors, key=lambda x: len(edge_map[x]))\n",
    "        else:\n",
    "            # If no neighbors, choose random unvisited city\n",
    "            unused = set(range(n)) - set(child[:i])\n",
    "            next_city = random.choice(list(unused))\n",
    "            \n",
    "        child[i] = next_city\n",
    "        current = next_city\n",
    "        \n",
    "    return child"
   ]
  },
  {
   "cell_type": "code",
   "execution_count": 1685,
   "metadata": {},
   "outputs": [],
   "source": [
    "# PMX Crossover\n",
    "def pmx_crossover(parent1, parent2):\n",
    "\n",
    "    n = len(parent1)\n",
    "    # Choose crossover points\n",
    "    point1, point2 = sorted(random.sample(range(n), 2))\n",
    "    \n",
    "    # Initialize offspring\n",
    "    offspring = [-1] * n\n",
    "    \n",
    "    # Copy segment from parent1\n",
    "    offspring[point1:point2] = parent1[point1:point2]\n",
    "    \n",
    "    # Create mapping\n",
    "    mapping = dict(zip(parent1[point1:point2], parent2[point1:point2]))\n",
    "    reverse_mapping = dict(zip(parent2[point1:point2], parent1[point1:point2]))\n",
    "    \n",
    "    # Fill the rest using mapping\n",
    "    for i in range(n):\n",
    "        if i < point1 or i >= point2:\n",
    "            current = parent2[i]\n",
    "            while current in mapping:\n",
    "                current = mapping[current]\n",
    "            offspring[i] = current\n",
    "            \n",
    "    return offspring"
   ]
  },
  {
   "cell_type": "code",
   "execution_count": 1686,
   "metadata": {},
   "outputs": [],
   "source": [
    "def cycle_crossover(parent1, parent2):\n",
    "\n",
    "    n = len(parent1)\n",
    "    offspring = [-1] * n\n",
    "    \n",
    "    # Find cycles\n",
    "    cycle = 0\n",
    "    pos = 0\n",
    "    while -1 in offspring:\n",
    "        if offspring[pos] == -1:\n",
    "            cycle += 1\n",
    "            current = pos\n",
    "            while True:\n",
    "                # Copy from parent1 for odd cycles, parent2 for even\n",
    "                offspring[current] = parent1[current] if cycle % 2 else parent2[current]\n",
    "                current = list(parent1).index(parent2[current])\n",
    "                if current == pos:\n",
    "                    break\n",
    "                    \n",
    "        pos = (pos + 1) % n\n",
    "        \n",
    "    return offspring"
   ]
  },
  {
   "cell_type": "markdown",
   "metadata": {},
   "source": [
    "### Mutation \n",
    "Mutation helps to introduce small changes in individual paths to maintain diversity. This prevents the algorithm from getting stuck in a local minimum. \n"
   ]
  },
  {
   "cell_type": "code",
   "execution_count": 1687,
   "metadata": {},
   "outputs": [],
   "source": [
    "def mutate(path, mutation_rate):\n",
    "    if np.random.rand() < mutation_rate:\n",
    "        # choose two random cities and swap them\n",
    "        idx1, idx2 = np.random.choice(len(path), 2, replace=False)\n",
    "        path[idx1], path[idx2] = path[idx2], path[idx1]\n",
    "    return path"
   ]
  },
  {
   "cell_type": "code",
   "execution_count": 1688,
   "metadata": {},
   "outputs": [],
   "source": [
    "def scramble_mutation(path, mutation_rate=0.1):\n",
    "    if np.random.rand() < mutation_rate:\n",
    "        # Select two random points for the subset\n",
    "        point1, point2 = sorted(np.random.choice(len(path), 2, replace=False))\n",
    "        # Scramble the subset\n",
    "        subset = path[point1:point2+1]\n",
    "        np.random.shuffle(subset)\n",
    "        # Replace the subset in the original path\n",
    "        path[point1:point2+1] = subset\n",
    "    return path"
   ]
  },
  {
   "cell_type": "code",
   "execution_count": 1689,
   "metadata": {},
   "outputs": [],
   "source": [
    "def inversion_mutate(path, mutation_rate):\n",
    "    if np.random.rand() < mutation_rate:\n",
    "        # Select two random points for the subset\n",
    "        point1, point2 = sorted(np.random.choice(len(path), 2, replace=False))\n",
    "        # Reverse the subset\n",
    "        path[point1:point2+1] = path[point1:point2+1][::-1]\n",
    "    return path"
   ]
  },
  {
   "cell_type": "code",
   "execution_count": 1690,
   "metadata": {},
   "outputs": [],
   "source": [
    "def adaptive_mutation_rate(initial_rate, final_rate, current_generation, total_generations):\n",
    "    return initial_rate - (initial_rate - final_rate) * (current_generation / total_generations)"
   ]
  },
  {
   "cell_type": "markdown",
   "metadata": {},
   "source": [
    "### Next Generation\n",
    "Using the selection, crossover, and mutation functions, we generate a new generation of paths.\n",
    "Here we combine tournament selection and elitism for the next generation\n"
   ]
  },
  {
   "cell_type": "code",
   "execution_count": 1691,
   "metadata": {},
   "outputs": [],
   "source": [
    "import random\n",
    "\n",
    "def generate_new_population(parents, mutation_rate=0.3, elite_size=5):\n",
    "    new_population = []\n",
    "    \n",
    "    # Preserve the best paths (elitism)\n",
    "    sorted_parents = sorted(parents, key=calculate_path_distance)\n",
    "    new_population.extend(sorted_parents[:elite_size])\n",
    "    \n",
    "    # Generate the rest of the population using random selection\n",
    "    while len(new_population) < len(parents):\n",
    "        parent1 = random.choice(parents)\n",
    "        parent2 = random.choice(parents)\n",
    "        child = pmx_crossover(parent1, parent2)\n",
    "        child = inversion_mutate(child, mutation_rate)\n",
    "        new_population.append(child)\n",
    "    \n",
    "    return new_population"
   ]
  },
  {
   "cell_type": "markdown",
   "metadata": {},
   "source": [
    "### Final Iteration\n",
    "Here we combine all the steps and iterate for a set number of generations or until convergence. "
   ]
  },
  {
   "cell_type": "code",
   "execution_count": 1692,
   "metadata": {},
   "outputs": [
    {
     "name": "stdout",
     "output_type": "stream",
     "text": [
      "best distance: 4193.685940199698 found at generation: 3060\n"
     ]
    },
    {
     "data": {
      "image/png": "[encoded data removed]",
      "text/plain": [
       "<Figure size 640x480 with 1 Axes>"
      ]
     },
     "metadata": {},
     "output_type": "display_data"
    }
   ],
   "source": [
    "num_generations = 5000  # Here we define the number of generations \n",
    "best_distances = []\n",
    "best_generation = -1\n",
    "best_distance = np.inf\n",
    "# initial_mutation_rate = 0.5  # Starting mutation rate\n",
    "# final_mutation_rate = 0.01  # Ending mutation rate\n",
    "\n",
    "\n",
    "for generation in range(num_generations):\n",
    "    # step 1: calculate fitness\n",
    "    fitness_scores = [calculate_path_distance(path) for path in population]\n",
    "    \n",
    "    # step 2: Selection\n",
    "    parents = select_parents(population, fitness_scores, 20)\n",
    "    \n",
    "    # step 2.1: adaptive mutation rate is used to control the mutation rate\n",
    "    # mutation_rate = adaptive_mutation_rate(initial_mutation_rate, final_mutation_rate, generation, num_generations)\n",
    "    \n",
    "    # step 3: Generate new population\n",
    "    population = generate_new_population(parents)\n",
    "\n",
    "    # step 4: Calculate the best path in the current generation\n",
    "    current_best_distance = min(fitness_scores)\n",
    "    best_distances.append(best_distance)\n",
    "\n",
    "    # step 5: Update the best generation\n",
    "    if current_best_distance < best_distance:\n",
    "        best_distance = current_best_distance\n",
    "        best_generation = generation \n",
    "\n",
    "import matplotlib.pyplot as plt\n",
    "plt.plot(best_distances)\n",
    "print(f\"best distance: {best_distance} found at generation: {best_generation}\")"
   ]
  }
 ],
 "metadata": {
  "kernelspec": {
   "display_name": "lab2",
   "language": "python",
   "name": "python3"
  },
  "language_info": {
   "codemirror_mode": {
    "name": "ipython",
    "version": 3
   },
   "file_extension": ".py",
   "mimetype": "text/x-python",
   "name": "python",
   "nbconvert_exporter": "python",
   "pygments_lexer": "ipython3",
   "version": "3.12.2"
  }
 },
 "nbformat": 4,
 "nbformat_minor": 2
}
